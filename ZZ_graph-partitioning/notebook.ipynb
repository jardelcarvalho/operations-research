{
 "cells": [
  {
   "cell_type": "code",
   "execution_count": 37,
   "id": "b9b9016a",
   "metadata": {},
   "outputs": [],
   "source": [
    "#Restrições\n",
    "# Um vértice pode representar no máximo uma partição\n",
    "# Uma partição pode ter no máximo um representante\n",
    "# Desvio absoluto do número de partições em relação ao valor K\n",
    "# Garantindo que o gradiente da FO não aponte para o máximo local: Contendo o valor máximo das variáveis \n",
    "# de folga para que o desvio na quantidade de componentes não seja benéfico para a solução.\n",
    "# Relação de representantes e não representantes e disjunção de componentes: Se um vértice NÃO É um \n",
    "#  representante então ele DEVE estar conectado à um representante, por outro lado se um \n",
    "#  vértice É um representante então ele NÃO DEVE estar conectado à outro representante.\n",
    "#  Um representante não conectado à outro em paralelo com a última restrição garante que as partições\n",
    "#  sejam disjuntas.\n",
    "# Componentes fortemente conexos: Se um vértice A é ligado à um vértice B então A deve ser vizinho de todos\n",
    "#   os vizinhos de B."
   ]
  },
  {
   "cell_type": "markdown",
   "id": "2a1aab34",
   "metadata": {},
   "source": [
    "$$\n",
    "\\begin{align}\n",
    "V: & \\text{set of vertices indices}\\\\\n",
    "E: & \\text{set of edges indices}\\\\\n",
    "\\Pi: & \\text{set of partitions indices}\\\\\n",
    "K: & \\text{number of partitions } |\\Pi|\\\\\n",
    "\\rho_{i\\pi}:  & \\text{representative vertex $i$ of the partition $\\pi$}\\\\\n",
    "\\epsilon_{ij}:  & \\text{edge between the vertices $i$ and $j$}\\\\\n",
    "s^-, s^+: & \\text{absolute deviation from the number of partitions}\\\\\n",
    "\\omega_{ij}:  & \\text{wieght of the edge between the vertices $i$ and $j$}\\\\\n",
    "n(i): & \\text{neighborhoods of the edge $i$}\\\\\n",
    "\\lambda: & \\text{penalty for not create a partition}\n",
    "\\end{align}\n",
    "$$\n",
    "\n",
    "\n",
    "$$\n",
    "\\underset{\\rho, \\epsilon, \\kappa}\\min \\left\\{z := \\sum_{(i, j) \\in E}\\omega_{ij}\\epsilon_{ij} + \\lambda\\big(K - \\kappa^- - \\kappa^+\\big) \\right\\}, \\text{ where } \\lambda := \\sum_{(i, j) \\in E}\\omega_{ij}\n",
    "$$\n",
    "\n",
    "$$\n",
    "\\begin{align}\n",
    "\\sum_{\\pi \\in \\Pi} \\rho_{i\\pi} \\leq 1 & & \\forall i \\in V\\\\\n",
    "\\sum_{i \\in V} \\rho_{i\\pi} \\leq 1 & & \\forall \\pi \\in \\Pi\\\\\n",
    "\\sum_{\\pi \\in \\Pi}\\sum_{i \\in V} \\rho_{i\\pi} + \\kappa^- - \\kappa^+ = K & &\\\\\n",
    "\\kappa^- + \\kappa^+ \\leq K\\\\\n",
    "1 - \\sum_{\\pi \\in \\Pi}\\rho_{i\\pi} = \\sum_{j \\in n(i)}\\epsilon_{ij}\\sum_{\\pi \\in \\Pi}\\rho_{j\\pi} & & \\forall i \\in V\\\\\n",
    "\\epsilon_{ij}\\sum_{k \\in n(i) \\cap n(j)}\\big(\\epsilon_{ik} + \\epsilon_{jk}\\big) = \\epsilon_{ij}\\left(\\sum_{k \\in n(i)}\\epsilon_{ik} + \\sum_{k \\in n(j)}\\epsilon_{jk} - 2\\right) & & \\forall (i, j) \\in E\\\\\n",
    "\\rho_{i\\pi} \\in \\{0, 1\\} & & \\forall (i, \\pi) \\in V \\times \\Pi\\\\\n",
    "\\epsilon_{ij} \\in \\{0, 1\\} & & \\forall (i, j) \\in E\\\\\n",
    "\\kappa^-, \\kappa^+ \\in \\mathbb{R}^+\n",
    "\\end{align}\n",
    "$$"
   ]
  },
  {
   "cell_type": "markdown",
   "id": "47fafa9e",
   "metadata": {},
   "source": [
    "$$\n",
    "\n",
    "$$"
   ]
  },
  {
   "cell_type": "markdown",
   "id": "9f68ffa6",
   "metadata": {},
   "source": [
    "### Removed constraints\n",
    "\n",
    "Esta restrição evita apenas que dois representantes estejam conectados, mas não garante que um não representante\n",
    "esteja conectado à um vértice que é um representante.\n",
    "$$\n",
    "\\sum_{\\pi \\in \\Pi}\\big(\\rho_{i\\pi} + \\rho_{j\\pi}\\big) + \\epsilon_{ij} < 3 \\quad \\forall (i, j) \\in E\\\\\n",
    "$$"
   ]
  },
  {
   "cell_type": "markdown",
   "id": "40810d98",
   "metadata": {},
   "source": [
    "### Linearized constraint\n",
    "\n",
    "$$\n",
    "(|n(i)| + |n(j)|)\\left(1 - \\epsilon_{ij}\\right) + \\sum_{k \\in n(i) \\cap n(j)}\\big(\\epsilon_{ik} + \\epsilon_{jk}\\big) \\geq \\sum_{k \\in n(i)}\\epsilon_{ik} + \\sum_{k \\in n(j)}\\epsilon_{jk} - 2\n",
    "$$"
   ]
  },
  {
   "cell_type": "markdown",
   "id": "1f194516",
   "metadata": {},
   "source": [
    "## Testing constraint"
   ]
  },
  {
   "cell_type": "code",
   "execution_count": 31,
   "id": "c8a47a51",
   "metadata": {},
   "outputs": [
    {
     "data": {
      "text/plain": [
       "\"\\ndef test_constraint_linearized(graph, epsilon):\\n    def fn(i, j):\\n        indices = np.arange(0, len(graph))\\n        n_i = indices[graph[i] != 0]\\n        n_j = indices[graph[j] != 0]\\n        \\n        n_ij = indices[(graph[i] != 0) & (graph[j] != 0)]\\n        \\n        lhs = (len(n_i) + len(n_j)) * (1 - epsilon[i, j]) + (epsilon[i, n_ij].sum() + epsilon[j, n_ij].sum())\\n        rhs = epsilon[i, n_i].sum() + epsilon[j, n_j].sum() - 2\\n        \\n        return f'{lhs} >= {rhs}   {lhs >= rhs}'\\n        \\n    tests = []\\n    for i in range(len(graph)):\\n        for j in range(len(graph)):\\n            if graph[i, j] != 0 and graph[j, i] != 0 and (j, i) not in tests:\\n                print((i, j), fn(i, j))\\n                tests.append((i, j))\\n\""
      ]
     },
     "execution_count": 31,
     "metadata": {},
     "output_type": "execute_result"
    }
   ],
   "source": [
    "import numpy as np\n",
    "\n",
    "def remove_edges(edges):\n",
    "    for i, j in edges:\n",
    "        graph[i, j] = 0\n",
    "        graph[j, i] = 0\n",
    "        epsilon[i, j] = 0\n",
    "        epsilon[j, i] = 0\n",
    "        \n",
    "def disable_edges(edges):\n",
    "    for i, j in edges:\n",
    "        epsilon[i, j] = 0\n",
    "        epsilon[j, i] = 0\n",
    "    \n",
    "def test_constraint(graph, epsilon):\n",
    "    def fn(i, j):\n",
    "        indices = np.arange(0, len(graph))\n",
    "        n_i = indices[graph[i] != 0]\n",
    "        n_j = indices[graph[j] != 0]\n",
    "        \n",
    "        n_ij = indices[(graph[i] != 0) & (graph[j] != 0)]\n",
    "        \n",
    "        lhs = epsilon[i, j] * (epsilon[i, n_ij].sum() + epsilon[j, n_ij].sum())\n",
    "        rhs = epsilon[i, j] * (epsilon[i, n_i].sum() + epsilon[j, n_j].sum() - 2)\n",
    "        \n",
    "        return f'{lhs} = {rhs}   {lhs == rhs}'\n",
    "        \n",
    "    tests = []\n",
    "    for i in range(len(graph)):\n",
    "        for j in range(len(graph)):\n",
    "            if graph[i, j] != 0 and graph[j, i] != 0 and (j, i) not in tests:\n",
    "                print((i, j), fn(i, j))\n",
    "                tests.append((i, j))\n",
    "\n",
    "'''\n",
    "def test_constraint_linearized(graph, epsilon):\n",
    "    def fn(i, j):\n",
    "        indices = np.arange(0, len(graph))\n",
    "        n_i = indices[graph[i] != 0]\n",
    "        n_j = indices[graph[j] != 0]\n",
    "        \n",
    "        n_ij = indices[(graph[i] != 0) & (graph[j] != 0)]\n",
    "        \n",
    "        lhs = (len(n_i) + len(n_j)) * (1 - epsilon[i, j]) + (epsilon[i, n_ij].sum() + epsilon[j, n_ij].sum())\n",
    "        rhs = epsilon[i, n_i].sum() + epsilon[j, n_j].sum() - 2\n",
    "        \n",
    "        return f'{lhs} >= {rhs}   {lhs >= rhs}'\n",
    "        \n",
    "    tests = []\n",
    "    for i in range(len(graph)):\n",
    "        for j in range(len(graph)):\n",
    "            if graph[i, j] != 0 and graph[j, i] != 0 and (j, i) not in tests:\n",
    "                print((i, j), fn(i, j))\n",
    "                tests.append((i, j))\n",
    "'''"
   ]
  },
  {
   "attachments": {
    "Complete4.png": {
     "image/png": "[encoded data removed]"
    }
   },
   "cell_type": "markdown",
   "id": "95a97b17",
   "metadata": {},
   "source": [
    "### Complete graph (must be feasible)\n",
    "![Complete4.png](attachment:Complete4.png)"
   ]
  },
  {
   "cell_type": "code",
   "execution_count": 32,
   "id": "16fd4093",
   "metadata": {},
   "outputs": [
    {
     "name": "stdout",
     "output_type": "stream",
     "text": [
      "Graph\n",
      "[0 1 1 1]\n",
      "[1 0 1 1]\n",
      "[1 1 0 1]\n",
      "[1 1 1 0]\n",
      "\n",
      "Epsilon\n",
      "[0 1 1 1]\n",
      "[1 0 1 1]\n",
      "[1 1 0 1]\n",
      "[1 1 1 0]\n",
      "\n",
      "(0, 1) 4 = 4   True\n",
      "(0, 2) 4 = 4   True\n",
      "(0, 3) 4 = 4   True\n",
      "(1, 2) 4 = 4   True\n",
      "(1, 3) 4 = 4   True\n",
      "(2, 3) 4 = 4   True\n"
     ]
    }
   ],
   "source": [
    "graph = -(np.eye(4, dtype=int) - 1) \n",
    "epsilon = -(np.eye(4, dtype=int) - 1) \n",
    "\n",
    "print('Graph\\n', '\\n'.join(map(str, graph)), sep='', end='\\n\\n')\n",
    "print('Epsilon\\n', '\\n'.join(map(str, epsilon)), sep='', end='\\n\\n')\n",
    "            \n",
    "test_constraint(graph, epsilon)"
   ]
  },
  {
   "attachments": {
    "Complete4%20without%20%280,%202%29.png": {
     "image/png": "[encoded data removed]"
    }
   },
   "cell_type": "markdown",
   "id": "b649ba91",
   "metadata": {},
   "source": [
    "### Edge (0, 2) does not exists (must be infeasible)\n",
    "![Complete4%20without%20%280,%202%29.png](attachment:Complete4%20without%20%280,%202%29.png)"
   ]
  },
  {
   "cell_type": "code",
   "execution_count": 33,
   "id": "5719b79c",
   "metadata": {},
   "outputs": [
    {
     "name": "stdout",
     "output_type": "stream",
     "text": [
      "Graph\n",
      "[0 1 0 1]\n",
      "[1 0 1 1]\n",
      "[0 1 0 1]\n",
      "[1 1 1 0]\n",
      "\n",
      "Epsilon\n",
      "[0 1 0 1]\n",
      "[1 0 1 1]\n",
      "[0 1 0 1]\n",
      "[1 1 1 0]\n",
      "\n",
      "(0, 1) 2 = 3   False\n",
      "(0, 3) 2 = 3   False\n",
      "(1, 2) 2 = 3   False\n",
      "(1, 3) 4 = 4   True\n",
      "(2, 3) 2 = 3   False\n"
     ]
    }
   ],
   "source": [
    "graph = -(np.eye(4, dtype=int) - 1) \n",
    "epsilon = -(np.eye(4, dtype=int) - 1) \n",
    "\n",
    "remove_edges([(0, 2)])\n",
    "\n",
    "print('Graph\\n', '\\n'.join(map(str, graph)), sep='', end='\\n\\n')\n",
    "print('Epsilon\\n', '\\n'.join(map(str, epsilon)), sep='', end='\\n\\n')\n",
    "            \n",
    "test_constraint(graph, epsilon)"
   ]
  },
  {
   "attachments": {
    "Complete%204%20without%20%280,%202%29,%20(2,%201)%20and%20(2,%203).png": {
     "image/png": "[encoded data removed]"
    }
   },
   "cell_type": "markdown",
   "id": "eef12fd7",
   "metadata": {},
   "source": [
    "### Edge (0, 2) does not exists and edges (2, 1) and (2, 3) was disabled (must be feasible)\n",
    "![Complete%204%20without%20%280,%202%29,%20(2,%201)%20and%20(2,%203).png](attachment:Complete%204%20without%20%280,%202%29,%20(2,%201)%20and%20(2,%203).png)"
   ]
  },
  {
   "cell_type": "code",
   "execution_count": 34,
   "id": "4dd98412",
   "metadata": {},
   "outputs": [
    {
     "name": "stdout",
     "output_type": "stream",
     "text": [
      "Graph\n",
      "[0 1 0 1]\n",
      "[1 0 1 1]\n",
      "[0 1 0 1]\n",
      "[1 1 1 0]\n",
      "\n",
      "Epsilon\n",
      "[0 1 0 1]\n",
      "[1 0 0 1]\n",
      "[0 0 0 0]\n",
      "[1 1 0 0]\n",
      "\n",
      "(0, 1) 2 = 2   True\n",
      "(0, 3) 2 = 2   True\n",
      "(1, 2) 0 = 0   True\n",
      "(1, 3) 2 = 2   True\n",
      "(2, 3) 0 = 0   True\n"
     ]
    }
   ],
   "source": [
    "graph = -(np.eye(4, dtype=int) - 1) \n",
    "epsilon = -(np.eye(4, dtype=int) - 1) \n",
    "\n",
    "remove_edges([(0, 2)])\n",
    "disable_edges([(2, 1), (2, 3)])\n",
    "\n",
    "print('Graph\\n', '\\n'.join(map(str, graph)), sep='', end='\\n\\n')\n",
    "print('Epsilon\\n', '\\n'.join(map(str, epsilon)), sep='', end='\\n\\n')\n",
    "            \n",
    "test_constraint(graph, epsilon)"
   ]
  },
  {
   "attachments": {
    "G%286%29%20infeasible.png": {
     "image/png": "[encoded data removed]"
    }
   },
   "cell_type": "markdown",
   "id": "0b119c2e",
   "metadata": {},
   "source": [
    "### Edge (0, 1) and (1, 3) exists (must be infeasible)\n",
    "![G%286%29%20infeasible.png](attachment:G%286%29%20infeasible.png)"
   ]
  },
  {
   "cell_type": "code",
   "execution_count": 35,
   "id": "2089bdce",
   "metadata": {},
   "outputs": [
    {
     "name": "stdout",
     "output_type": "stream",
     "text": [
      "Graph\n",
      "[0 1 0 1 0 0 1]\n",
      "[1 0 1 1 1 1 0]\n",
      "[0 1 0 0 1 1 0]\n",
      "[1 1 0 0 0 0 1]\n",
      "[0 1 1 0 0 1 0]\n",
      "[0 1 1 0 1 0 0]\n",
      "[1 0 0 1 0 0 0]\n",
      "\n",
      "Epsilon\n",
      "[0 1 0 1 0 0 1]\n",
      "[1 0 1 1 1 1 0]\n",
      "[0 1 0 0 1 1 0]\n",
      "[1 1 0 0 0 0 1]\n",
      "[0 1 1 0 0 1 0]\n",
      "[0 1 1 0 1 0 0]\n",
      "[1 0 0 1 0 0 0]\n",
      "\n",
      "(0, 1) 2 = 6   False\n",
      "(0, 3) 4 = 4   True\n",
      "(0, 6) 2 = 3   False\n",
      "(1, 2) 4 = 6   False\n",
      "(1, 3) 2 = 6   False\n",
      "(1, 4) 4 = 6   False\n",
      "(1, 5) 4 = 6   False\n",
      "(2, 4) 4 = 4   True\n",
      "(2, 5) 4 = 4   True\n",
      "(3, 6) 2 = 3   False\n",
      "(4, 5) 4 = 4   True\n"
     ]
    }
   ],
   "source": [
    "graph = np.array([\n",
    "   # 0  1  2  3  4  5  6\n",
    "    [0, 1, 0, 1, 0, 0, 1], # 0\n",
    "    [1, 0, 1, 1, 1, 1, 0], # 1\n",
    "    [0, 1, 0, 0, 1, 1, 0], # 2\n",
    "    [1, 1, 0, 0, 0, 0, 1], # 3\n",
    "    [0, 1, 1, 0, 0, 1, 0], # 4\n",
    "    [0, 1, 1, 0, 1, 0, 0], # 5\n",
    "    [1, 0, 0, 1, 0, 0, 0]  # 6\n",
    "])\n",
    "epsilon = np.copy(graph)\n",
    "\n",
    "print('Graph\\n', '\\n'.join(map(str, graph)), sep='', end='\\n\\n')\n",
    "print('Epsilon\\n', '\\n'.join(map(str, epsilon)), sep='', end='\\n\\n')\n",
    "            \n",
    "test_constraint(graph, epsilon)"
   ]
  },
  {
   "attachments": {
    "G%286%29%20feasible.png": {
     "image/png": "[encoded data removed]"
    }
   },
   "cell_type": "markdown",
   "id": "33638346",
   "metadata": {},
   "source": [
    "### Edge (0, 1) and (1, 3) was disabled (must be feasible)\n",
    "![G%286%29%20feasible.png](attachment:G%286%29%20feasible.png)"
   ]
  },
  {
   "cell_type": "code",
   "execution_count": 36,
   "id": "9eb8a6d0",
   "metadata": {},
   "outputs": [
    {
     "name": "stdout",
     "output_type": "stream",
     "text": [
      "Graph\n",
      "[0 1 0 1 0 0 1]\n",
      "[1 0 1 1 1 1 0]\n",
      "[0 1 0 0 1 1 0]\n",
      "[1 1 0 0 0 0 1]\n",
      "[0 1 1 0 0 1 0]\n",
      "[0 1 1 0 1 0 0]\n",
      "[1 0 0 1 0 0 0]\n",
      "\n",
      "Epsilon\n",
      "[0 0 0 1 0 0 1]\n",
      "[0 0 1 0 1 1 0]\n",
      "[0 1 0 0 1 1 0]\n",
      "[1 0 0 0 0 0 1]\n",
      "[0 1 1 0 0 1 0]\n",
      "[0 1 1 0 1 0 0]\n",
      "[1 0 0 1 0 0 0]\n",
      "\n",
      "(0, 1) 0 = 0   True\n",
      "(0, 3) 2 = 2   True\n",
      "(0, 6) 2 = 2   True\n",
      "(1, 2) 4 = 4   True\n",
      "(1, 3) 0 = 0   True\n",
      "(1, 4) 4 = 4   True\n",
      "(1, 5) 4 = 4   True\n",
      "(2, 4) 4 = 4   True\n",
      "(2, 5) 4 = 4   True\n",
      "(3, 6) 2 = 2   True\n",
      "(4, 5) 4 = 4   True\n"
     ]
    }
   ],
   "source": [
    "graph = np.array([\n",
    "   # 0  1  2  3  4  5  6\n",
    "    [0, 1, 0, 1, 0, 0, 1], # 0\n",
    "    [1, 0, 1, 1, 1, 1, 0], # 1\n",
    "    [0, 1, 0, 0, 1, 1, 0], # 2\n",
    "    [1, 1, 0, 0, 0, 0, 1], # 3\n",
    "    [0, 1, 1, 0, 0, 1, 0], # 4\n",
    "    [0, 1, 1, 0, 1, 0, 0], # 5\n",
    "    [1, 0, 0, 1, 0, 0, 0]  # 6\n",
    "])\n",
    "epsilon = np.copy(graph)\n",
    "\n",
    "disable_edges([(0, 1), (1, 3)])\n",
    "\n",
    "print('Graph\\n', '\\n'.join(map(str, graph)), sep='', end='\\n\\n')\n",
    "print('Epsilon\\n', '\\n'.join(map(str, epsilon)), sep='', end='\\n\\n')\n",
    "            \n",
    "test_constraint(graph, epsilon)"
   ]
  },
  {
   "cell_type": "code",
   "execution_count": null,
   "id": "806e65d1",
   "metadata": {},
   "outputs": [],
   "source": []
  }
 ],
 "metadata": {
  "kernelspec": {
   "display_name": "Python 3 (ipykernel)",
   "language": "python",
   "name": "python3"
  },
  "language_info": {
   "codemirror_mode": {
    "name": "ipython",
    "version": 3
   },
   "file_extension": ".py",
   "mimetype": "text/x-python",
   "name": "python",
   "nbconvert_exporter": "python",
   "pygments_lexer": "ipython3",
   "version": "3.10.9"
  }
 },
 "nbformat": 4,
 "nbformat_minor": 5
}
