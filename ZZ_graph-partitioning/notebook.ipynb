{
 "cells": [
  {
   "cell_type": "markdown",
   "id": "2a1aab34",
   "metadata": {},
   "source": [
    "$$\n",
    "\\begin{align}\n",
    "V: & \\text{set of vertices}\\\\\n",
    "E: & \\text{set of edges}\\\\\n",
    "\\Pi: & \\text{set of partitions}\\\\\n",
    "K: & \\text{number of partitions } |\\Pi|\\\\\n",
    "\\rho_{i}:  & \\text{representative vertex $i$ of the partition}\\\\\n",
    "\\epsilon_{ij}:  & \\text{edge between the vertices $i$ and $j$}\\\\\n",
    "\\omega_{ij}:  & \\text{wieght of the edge between the vertices $i$ and $j$}\\\\\n",
    "n(i): & \\text{neighborhoods of the edge $i$}\\\\\n",
    "\\varphi: & \\text{penalty for not create a partition}\n",
    "\\end{align}\n",
    "$$\n",
    "\n",
    "\n",
    "$$\n",
    "\\underset{\\rho, \\epsilon, s}\\min \\left\\{z := \\sum_{(i, j) \\in E}\\omega_{ij}\\epsilon_{ij} + \\varphi\\big(K - s^- - s^+\\big) \\right\\}, \\text{ where } \\varphi := \\sum_{(i, j) \\in E}\\omega_{ij}\n",
    "$$\n",
    "\n",
    "$$\n",
    "\\begin{align}\n",
    "\\sum_{\\pi \\in \\Pi} \\rho_{i\\pi} \\leq 1 & & \\forall i \\in V\\\\\n",
    "\\sum_{i \\in V} \\rho_{i\\pi} \\leq 1 & & \\forall \\pi \\in \\Pi\\\\\n",
    "\\alpha\\rho_{\\alpha\\pi} - \\sum_{\\pi \\in \\Pi}\\left[\\alpha\\rho_{\\beta\\pi} + \\beta(1 - \\rho_{\\beta\\pi})\\right] \\leq \\alpha\\sum_{\\gamma \\in V}\\rho_{\\gamma\\pi} \\rho_{i\\pi} & & \\forall (\\alpha, \\beta, \\pi) \\in V \\times V \\times \\Pi\\\\\n",
    "\\sum_{\\pi \\in \\Pi}\\sum_{i \\in V} \\rho_{i\\pi} + s^- - s^+ = K & &\\\\\n",
    "s^- + s^+ \\leq K\\\\\n",
    "\\epsilon_{ij} + \\sum_{k \\in n(i)}\\epsilon_{jk} \\geq \\rho_{i\\pi}\\big(|n(i)| - 1\\big) & & \\forall (i, j) \\in E \\times \\Pi\\\\\n",
    "\\rho_{i\\pi} \\in \\{0, 1\\} & & \\forall (i, \\pi) \\in V \\times \\Pi\\\\\n",
    "\\epsilon_{ij} \\in \\{0, 1\\} & & \\forall (i, j) \\in E\\\\\n",
    "s^-, s^+ \\in \\mathbb{R}^+\n",
    "\\end{align}\n",
    "$$"
   ]
  },
  {
   "cell_type": "markdown",
   "id": "bca9f5bb",
   "metadata": {},
   "source": [
    "$$\n",
    "\\alpha\\rho_{\\alpha\\pi} \\leq \\sum_{\\pi \\in \\Pi}\\left(\\beta(1 - \\rho_{\\beta\\pi}) + \\alpha\\rho_{\\beta\\pi}\\right)\n",
    "$$\n",
    "\n",
    "\n",
    "$$\n",
    "\\alpha\\rho_{\\alpha\\pi} - \\sum_{\\pi \\in \\Pi}\\left[\\alpha\\rho_{\\beta\\pi} + \\beta(1 - \\rho_{\\beta\\pi})\\right] \\leq \\alpha\\sum_{\\gamma \\in V}\\rho_{\\gamma\\pi}\n",
    "$$"
   ]
  },
  {
   "cell_type": "code",
   "execution_count": null,
   "id": "5613effe",
   "metadata": {},
   "outputs": [],
   "source": [
    "0 0: ok \n",
    "0 1: ok \n",
    "1 0: ok \n",
    "1 1: ok"
   ]
  },
  {
   "cell_type": "code",
   "execution_count": null,
   "id": "48da55f7",
   "metadata": {},
   "outputs": [],
   "source": [
    "#A terceira restrição precisa de correções\n",
    "#Algo que englobe o representante de menor indice da outra partição\n",
    "#Se a partição existe\n",
    "#Se o índice selecionado é o menor possível dado que os menores que ele \n",
    "#  já estão sendo utilizados em outras partições"
   ]
  },
  {
   "cell_type": "code",
   "execution_count": 2,
   "id": "b9b9016a",
   "metadata": {},
   "outputs": [],
   "source": [
    "#Restrições\n",
    "# Um vértice pode representar no máximo uma partição\n",
    "# Uma partição pode ter no máximo um representante\n",
    "# Uma partição deve ter como representante o vértice de menor índice\n",
    "# Desvio absoluto do número de partições em relação ao valor K\n",
    "# Contendo o valor máximo das variáveis de folga\n",
    "# Se um vértice é ligado à um representante então este vértice deve ser vizinho de todos\n",
    "#   os vizinhos do representante. Por outro  lado, se ele não estiver conectado\n",
    "#   à um representante então ele pode ser vizinho de qualquer um."
   ]
  }
 ],
 "metadata": {
  "kernelspec": {
   "display_name": "Python 3 (ipykernel)",
   "language": "python",
   "name": "python3"
  },
  "language_info": {
   "codemirror_mode": {
    "name": "ipython",
    "version": 3
   },
   "file_extension": ".py",
   "mimetype": "text/x-python",
   "name": "python",
   "nbconvert_exporter": "python",
   "pygments_lexer": "ipython3",
   "version": "3.10.9"
  }
 },
 "nbformat": 4,
 "nbformat_minor": 5
}
