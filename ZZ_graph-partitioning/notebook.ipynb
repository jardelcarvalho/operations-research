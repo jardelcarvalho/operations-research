{
 "cells": [
  {
   "cell_type": "code",
   "execution_count": 135,
   "id": "b9b9016a",
   "metadata": {},
   "outputs": [],
   "source": [
    "#Restrições\n",
    "# Um vértice pode representar no máximo uma partição\n",
    "# Uma partição pode ter no máximo um representante\n",
    "# Uma partição deve ter como representante o vértice de menor índice\n",
    "# Desvio absoluto do número de partições em relação ao valor K\n",
    "# Contendo o valor máximo das variáveis de folga\n",
    "# Se um vértice A é ligado à um vértice B então A deve ser vizinho de todos\n",
    "#   os vizinhos de B."
   ]
  },
  {
   "cell_type": "code",
   "execution_count": null,
   "id": "48da55f7",
   "metadata": {},
   "outputs": [],
   "source": [
    "#TODO\n",
    "#A terceira restrição precisa de correções\n",
    "#Algo que englobe o representante de menor indice da outra partição\n",
    "#Se a partição existe\n",
    "#Se o índice selecionado é o menor possível dado que os menores que ele \n",
    "#  já estão sendo utilizados em outras partições"
   ]
  },
  {
   "cell_type": "markdown",
   "id": "2a1aab34",
   "metadata": {},
   "source": [
    "$$\n",
    "\\begin{align}\n",
    "V: & \\text{set of vertices indices}\\\\\n",
    "E: & \\text{set of edges indices}\\\\\n",
    "\\Pi: & \\text{set of partitions indices}\\\\\n",
    "K: & \\text{number of partitions } |\\Pi|\\\\\n",
    "\\rho_{i\\pi}:  & \\text{representative vertex $i$ of the partition $\\pi$}\\\\\n",
    "\\epsilon_{ij}:  & \\text{edge between the vertices $i$ and $j$}\\\\\n",
    "s^-, s^+: & \\text{absolute deviation from the number of partitions}\\\\\n",
    "\\omega_{ij}:  & \\text{wieght of the edge between the vertices $i$ and $j$}\\\\\n",
    "n(i): & \\text{neighborhoods of the edge $i$}\\\\\n",
    "\\varphi: & \\text{penalty for not create a partition}\n",
    "\\end{align}\n",
    "$$\n",
    "\n",
    "\n",
    "$$\n",
    "\\underset{\\rho, \\epsilon, s}\\min \\left\\{z := \\sum_{(i, j) \\in E}\\omega_{ij}\\left[\\epsilon_{ij} + (1 + \\lambda)(1 - \\epsilon_{ij})\\right] + \\varphi\\big(K - s^- - s^+\\big) \\right\\}, \\text{ where } \\varphi := \\sum_{(i, j) \\in E}\\omega_{ij}, \\lambda \\in (0, 1]\n",
    "$$\n",
    "\n",
    "$$\n",
    "\\begin{align}\n",
    "\\sum_{\\pi \\in \\Pi} \\rho_{i\\pi} \\leq 1 & & \\forall i \\in V\\\\\n",
    "\\sum_{i \\in V} \\rho_{i\\pi} \\leq 1 & & \\forall \\pi \\in \\Pi\\\\\n",
    "\\alpha\\rho_{\\alpha\\pi} - \\sum_{u \\in \\Pi}\\left[\\alpha\\rho_{\\beta u} + \\beta(1 - \\rho_{\\beta u})\\right] \\leq \\rho_{\\alpha\\pi} - \\sum_{\\gamma \\in V}\\rho_{\\gamma\\pi} & & \\forall (\\alpha, \\beta, \\pi) \\in V \\times V \\times \\Pi\\\\\n",
    "\\sum_{\\pi \\in \\Pi}\\sum_{i \\in V} \\rho_{i\\pi} + s^- - s^+ = K & &\\\\\n",
    "s^- + s^+ \\leq K\\\\\n",
    "\\epsilon_{ij}\\sum_{k \\in n(i) \\cap n(j)}\\big(\\epsilon_{ik} + \\epsilon_{jk}\\big) = \\sum_{k \\in n(i)}\\epsilon_{ik} + \\sum_{k \\in n(j)}\\epsilon_{jk} - 2 & & \\forall (i, j) \\in E\\\\\n",
    "\\rho_{i\\pi} \\in \\{0, 1\\} & & \\forall (i, \\pi) \\in V \\times \\Pi\\\\\n",
    "\\epsilon_{ij} \\in \\{0, 1\\} & & \\forall (i, j) \\in E\\\\\n",
    "s^-, s^+ \\in \\mathbb{R}^+\n",
    "\\end{align}\n",
    "$$"
   ]
  },
  {
   "cell_type": "markdown",
   "id": "40810d98",
   "metadata": {},
   "source": [
    "### Linearized constraint (5)\n",
    "\n",
    "$$\n",
    "(|n(i)| + |n(j)|)\\left(1 - \\epsilon_{ij}\\right) + \\sum_{k \\in n(i) \\cap n(j)}\\big(\\epsilon_{ik} + \\epsilon_{jk}\\big) \\geq \\sum_{k \\in n(i)}\\epsilon_{ik} + \\sum_{k \\in n(j)}\\epsilon_{jk} - 2\n",
    "$$"
   ]
  },
  {
   "cell_type": "markdown",
   "id": "90cb6214",
   "metadata": {},
   "source": [
    "### Constraint (3)\n",
    "\n",
    "$$\n",
    "\\alpha\\rho_{\\alpha\\pi} \\leq \\sum_{\\pi \\in \\Pi}\\left(\\beta(1 - \\rho_{\\beta\\pi}) + \\alpha\\rho_{\\beta\\pi}\\right)\n",
    "$$\n",
    "\n",
    "\n",
    "$$\n",
    "\\alpha\\rho_{\\alpha\\pi} - \\sum_{\\pi \\in \\Pi}\\left[\\alpha\\rho_{\\beta\\pi} + \\beta(1 - \\rho_{\\beta\\pi})\\right] \\leq \\alpha\\sum_{\\gamma \\in V}\\rho_{\\gamma\\pi}\n",
    "$$"
   ]
  },
  {
   "cell_type": "markdown",
   "id": "1f194516",
   "metadata": {},
   "source": [
    "## Testing constraint 5"
   ]
  },
  {
   "cell_type": "code",
   "execution_count": 136,
   "id": "c8a47a51",
   "metadata": {},
   "outputs": [],
   "source": [
    "import numpy as np\n",
    "\n",
    "def remove_edges(edges):\n",
    "    for i, j in edges:\n",
    "        graph[i, j] = 0\n",
    "        graph[j, i] = 0\n",
    "        epsilon[i, j] = 0\n",
    "        epsilon[j, i] = 0\n",
    "        \n",
    "def disable_edges(edges):\n",
    "    for i, j in edges:\n",
    "        epsilon[i, j] = 0\n",
    "        epsilon[j, i] = 0\n",
    "    \n",
    "def test_constraint(graph, epsilon):\n",
    "    def fn(i, j):\n",
    "        indices = np.arange(0, len(graph))\n",
    "        n_i = indices[graph[i] != 0]\n",
    "        n_j = indices[graph[j] != 0]\n",
    "        \n",
    "        n_ij = indices[(graph[i] != 0) & (graph[j] != 0)]\n",
    "        \n",
    "        lhs = epsilon[i, j] * (epsilon[i, n_ij].sum() + epsilon[j, n_ij].sum())\n",
    "        rhs = epsilon[i, n_i].sum() + epsilon[j, n_j].sum() - 2\n",
    "        \n",
    "        return f'{lhs} = {rhs}   {lhs == rhs}'\n",
    "        \n",
    "    for i in range(len(graph)):\n",
    "        for j in range(len(graph)):\n",
    "            if graph[i, j] != 0 and graph[j, i] != 0:\n",
    "                print((i, j), fn(i, j))"
   ]
  },
  {
   "cell_type": "markdown",
   "id": "95a97b17",
   "metadata": {},
   "source": [
    "### Complete graph (must be feasible)"
   ]
  },
  {
   "cell_type": "code",
   "execution_count": 137,
   "id": "16fd4093",
   "metadata": {},
   "outputs": [
    {
     "name": "stdout",
     "output_type": "stream",
     "text": [
      "Graph\n",
      "[0 1 1 1]\n",
      "[1 0 1 1]\n",
      "[1 1 0 1]\n",
      "[1 1 1 0]\n",
      "\n",
      "Epsilon\n",
      "[0 1 1 1]\n",
      "[1 0 1 1]\n",
      "[1 1 0 1]\n",
      "[1 1 1 0]\n",
      "\n",
      "(0, 1) 4 = 4   True\n",
      "(0, 2) 4 = 4   True\n",
      "(0, 3) 4 = 4   True\n",
      "(1, 0) 4 = 4   True\n",
      "(1, 2) 4 = 4   True\n",
      "(1, 3) 4 = 4   True\n",
      "(2, 0) 4 = 4   True\n",
      "(2, 1) 4 = 4   True\n",
      "(2, 3) 4 = 4   True\n",
      "(3, 0) 4 = 4   True\n",
      "(3, 1) 4 = 4   True\n",
      "(3, 2) 4 = 4   True\n"
     ]
    }
   ],
   "source": [
    "graph = -(np.eye(4, dtype=int) - 1) \n",
    "epsilon = -(np.eye(4, dtype=int) - 1) \n",
    "\n",
    "print('Graph\\n', '\\n'.join(map(str, graph)), sep='', end='\\n\\n')\n",
    "print('Epsilon\\n', '\\n'.join(map(str, epsilon)), sep='', end='\\n\\n')\n",
    "            \n",
    "test_constraint(graph, epsilon)"
   ]
  },
  {
   "cell_type": "markdown",
   "id": "b649ba91",
   "metadata": {},
   "source": [
    "### Edge (0, 2) does not exists (must be infeasible)"
   ]
  },
  {
   "cell_type": "code",
   "execution_count": 138,
   "id": "5719b79c",
   "metadata": {},
   "outputs": [
    {
     "name": "stdout",
     "output_type": "stream",
     "text": [
      "Graph\n",
      "[0 1 0 1]\n",
      "[1 0 1 1]\n",
      "[0 1 0 1]\n",
      "[1 1 1 0]\n",
      "\n",
      "Epsilon\n",
      "[0 1 0 1]\n",
      "[1 0 1 1]\n",
      "[0 1 0 1]\n",
      "[1 1 1 0]\n",
      "\n",
      "(0, 1) 2 = 3   False\n",
      "(0, 3) 2 = 3   False\n",
      "(1, 0) 2 = 3   False\n",
      "(1, 2) 2 = 3   False\n",
      "(1, 3) 4 = 4   True\n",
      "(2, 1) 2 = 3   False\n",
      "(2, 3) 2 = 3   False\n",
      "(3, 0) 2 = 3   False\n",
      "(3, 1) 4 = 4   True\n",
      "(3, 2) 2 = 3   False\n"
     ]
    }
   ],
   "source": [
    "graph = -(np.eye(4, dtype=int) - 1) \n",
    "epsilon = -(np.eye(4, dtype=int) - 1) \n",
    "\n",
    "remove_edges([(0, 2)])\n",
    "\n",
    "print('Graph\\n', '\\n'.join(map(str, graph)), sep='', end='\\n\\n')\n",
    "print('Epsilon\\n', '\\n'.join(map(str, epsilon)), sep='', end='\\n\\n')\n",
    "            \n",
    "test_constraint(graph, epsilon)"
   ]
  },
  {
   "cell_type": "markdown",
   "id": "eef12fd7",
   "metadata": {},
   "source": [
    "### Edge (0, 2), (2, 1) and (2, 3) does not exists (must be feasible)"
   ]
  },
  {
   "cell_type": "code",
   "execution_count": 139,
   "id": "4dd98412",
   "metadata": {},
   "outputs": [
    {
     "name": "stdout",
     "output_type": "stream",
     "text": [
      "Graph\n",
      "[0 1 0 1]\n",
      "[1 0 1 1]\n",
      "[0 1 0 1]\n",
      "[1 1 1 0]\n",
      "\n",
      "Epsilon\n",
      "[0 1 0 1]\n",
      "[1 0 0 1]\n",
      "[0 0 0 0]\n",
      "[1 1 0 0]\n",
      "\n",
      "(0, 1) 2 = 2   True\n",
      "(0, 3) 2 = 2   True\n",
      "(1, 0) 2 = 2   True\n",
      "(1, 2) 0 = 0   True\n",
      "(1, 3) 2 = 2   True\n",
      "(2, 1) 0 = 0   True\n",
      "(2, 3) 0 = 0   True\n",
      "(3, 0) 2 = 2   True\n",
      "(3, 1) 2 = 2   True\n",
      "(3, 2) 0 = 0   True\n"
     ]
    }
   ],
   "source": [
    "graph = -(np.eye(4, dtype=int) - 1) \n",
    "epsilon = -(np.eye(4, dtype=int) - 1) \n",
    "\n",
    "remove_edges([(0, 2)])\n",
    "disable_edges([(2, 1), (2, 3)])\n",
    "\n",
    "print('Graph\\n', '\\n'.join(map(str, graph)), sep='', end='\\n\\n')\n",
    "print('Epsilon\\n', '\\n'.join(map(str, epsilon)), sep='', end='\\n\\n')\n",
    "            \n",
    "test_constraint(graph, epsilon)"
   ]
  }
 ],
 "metadata": {
  "kernelspec": {
   "display_name": "Python 3 (ipykernel)",
   "language": "python",
   "name": "python3"
  },
  "language_info": {
   "codemirror_mode": {
    "name": "ipython",
    "version": 3
   },
   "file_extension": ".py",
   "mimetype": "text/x-python",
   "name": "python",
   "nbconvert_exporter": "python",
   "pygments_lexer": "ipython3",
   "version": "3.10.9"
  }
 },
 "nbformat": 4,
 "nbformat_minor": 5
}
