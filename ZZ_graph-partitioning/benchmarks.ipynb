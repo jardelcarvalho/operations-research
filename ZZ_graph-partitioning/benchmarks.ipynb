{
 "cells": [
  {
   "cell_type": "code",
   "execution_count": null,
   "id": "0c0fd295-8944-4394-b1e9-a77abfed6f42",
   "metadata": {},
   "outputs": [],
   "source": [
    "import numpy as np\n",
    "import pandas as pd\n",
    "\n",
    "def _create_complete_graph(n):\n",
    "    return np.ones((n, n), dtype=np.float64) - np.eye(n)\n",
    "\n",
    "def _merge_matrices(graph_list):\n",
    "    full_graph = create_complete_graph(sum(map(len, graphs))) * 0.\n",
    "\n",
    "    index_offset = 0\n",
    "    for other in graph_list:\n",
    "        full_graph[index_offset:len(other) + index_offset, index_offset:len(other) + index_offset] = other[:, :]\n",
    "        index_offset += len(other)\n",
    "        \n",
    "    return full_graph\n",
    "\n",
    "def _connect_graphs_randomly(graph_list):\n",
    "    if len(graph_list) == 1:\n",
    "        return graph_list[0]\n",
    "\n",
    "    full_graph = _merge_matrices(graph_list)\n",
    "\n",
    "    entries_available = np.argwhere(full_graph == 0)\n",
    "    entries_available = entries_available[entries_available[:, 0] != entries_available[:, 1]]\n",
    "    num_edges = min(num_edges, len(entries_available))\n",
    "\n",
    "    selected_edges = [entries_available[idx] for idx in \n",
    "                      np.random.choice(np.arange(len(edges_available)), num_edges, replace=False)]\n",
    "    \n",
    "    connected = np.copy(full_graph)\n",
    "    for i, j in selected_edges:\n",
    "        w = weight_function()\n",
    "        connected[i, j] = w\n",
    "        connected[j, i] = w\n",
    "\n",
    "    return connected, selected_edges"
   ]
  }
 ],
 "metadata": {
  "kernelspec": {
   "display_name": "Python 3 (ipykernel)",
   "language": "python",
   "name": "python3"
  },
  "language_info": {
   "codemirror_mode": {
    "name": "ipython",
    "version": 3
   },
   "file_extension": ".py",
   "mimetype": "text/x-python",
   "name": "python",
   "nbconvert_exporter": "python",
   "pygments_lexer": "ipython3",
   "version": "3.9.13"
  }
 },
 "nbformat": 4,
 "nbformat_minor": 5
}
