{
 "cells": [
  {
   "cell_type": "code",
   "execution_count": 2,
   "id": "3d61fafc",
   "metadata": {
    "scrolled": false
   },
   "outputs": [],
   "source": [
    "import model\n",
    "import pandas as pd\n",
    "\n",
    "def _get_graph_data(df, source_col, sink_col, weight_col):\n",
    "\n",
    "    nodes = df[[source_col, sink_col]].to_numpy().ravel()\n",
    "    edges = df[[source_col, sink_col]].to_numpy()\n",
    "    weights = df[weight_col].to_numpy()\n",
    "\n",
    "    return nodes, edges, weights"
   ]
  },
  {
   "cell_type": "code",
   "execution_count": 3,
   "id": "fc80dd15",
   "metadata": {
    "scrolled": false
   },
   "outputs": [
    {
     "data": {
      "text/html": [
       "<div>\n",
       "<style scoped>\n",
       "    .dataframe tbody tr th:only-of-type {\n",
       "        vertical-align: middle;\n",
       "    }\n",
       "\n",
       "    .dataframe tbody tr th {\n",
       "        vertical-align: top;\n",
       "    }\n",
       "\n",
       "    .dataframe thead th {\n",
       "        text-align: right;\n",
       "    }\n",
       "</style>\n",
       "<table border=\"1\" class=\"dataframe\">\n",
       "  <thead>\n",
       "    <tr style=\"text-align: right;\">\n",
       "      <th></th>\n",
       "      <th>Source</th>\n",
       "      <th>Sink</th>\n",
       "      <th>Weight</th>\n",
       "    </tr>\n",
       "  </thead>\n",
       "  <tbody>\n",
       "    <tr>\n",
       "      <th>0</th>\n",
       "      <td>0</td>\n",
       "      <td>1</td>\n",
       "      <td>1.00</td>\n",
       "    </tr>\n",
       "    <tr>\n",
       "      <th>1</th>\n",
       "      <td>1</td>\n",
       "      <td>2</td>\n",
       "      <td>18.26</td>\n",
       "    </tr>\n",
       "  </tbody>\n",
       "</table>\n",
       "</div>"
      ],
      "text/plain": [
       "   Source  Sink  Weight\n",
       "0       0     1    1.00\n",
       "1       1     2   18.26"
      ]
     },
     "execution_count": 3,
     "metadata": {},
     "output_type": "execute_result"
    }
   ],
   "source": [
    "df = pd.read_csv('test-cases/Nodes(3)_Edges(2)/graph_3_2_(0).csv', sep=',')"
   ]
  },
  {
   "cell_type": "code",
   "execution_count": 2,
   "id": "a698b922",
   "metadata": {},
   "outputs": [
    {
     "data": {
      "text/plain": [
       "10.13"
      ]
     },
     "execution_count": 2,
     "metadata": {},
     "output_type": "execute_result"
    }
   ],
   "source": [
    "18.26 / 2 + 1"
   ]
  },
  {
   "cell_type": "code",
   "execution_count": 3,
   "id": "24bc9f2e",
   "metadata": {},
   "outputs": [
    {
     "data": {
      "text/plain": [
       "18.76"
      ]
     },
     "execution_count": 3,
     "metadata": {},
     "output_type": "execute_result"
    }
   ],
   "source": [
    "1 / 2 + 18.26"
   ]
  },
  {
   "cell_type": "code",
   "execution_count": 5,
   "id": "94357376",
   "metadata": {
    "scrolled": true
   },
   "outputs": [
    {
     "data": {
      "text/plain": [
       "36.1"
      ]
     },
     "execution_count": 5,
     "metadata": {},
     "output_type": "execute_result"
    }
   ],
   "source": [
    "18.1 + 18"
   ]
  },
  {
   "cell_type": "code",
   "execution_count": 5,
   "id": "f2b4f761",
   "metadata": {},
   "outputs": [
    {
     "data": {
      "text/plain": [
       "(27.380000000000003, 27.385)"
      ]
     },
     "execution_count": 5,
     "metadata": {},
     "output_type": "execute_result"
    }
   ],
   "source": [
    "L = .5\n",
    "L * 18.26 + 18.25, L * 18.25 + 18.26"
   ]
  }
 ],
 "metadata": {
  "kernelspec": {
   "display_name": "Python 3 (ipykernel)",
   "language": "python",
   "name": "python3"
  },
  "language_info": {
   "codemirror_mode": {
    "name": "ipython",
    "version": 3
   },
   "file_extension": ".py",
   "mimetype": "text/x-python",
   "name": "python",
   "nbconvert_exporter": "python",
   "pygments_lexer": "ipython3",
   "version": "3.10.9"
  }
 },
 "nbformat": 4,
 "nbformat_minor": 5
}
