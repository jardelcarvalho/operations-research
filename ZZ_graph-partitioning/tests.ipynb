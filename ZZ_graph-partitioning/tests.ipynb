{
 "cells": [
  {
   "cell_type": "code",
   "execution_count": 2,
   "id": "62107312",
   "metadata": {
    "scrolled": false
   },
   "outputs": [],
   "source": [
    "import model\n",
    "import pandas as pd\n",
    "\n",
    "def _get_graph_data(df, source_col, sink_col, weight_col):\n",
    "\n",
    "    nodes = df[[source_col, sink_col]].to_numpy().ravel()\n",
    "    edges = df[[source_col, sink_col]].to_numpy()\n",
    "    weights = df[weight_col].to_numpy()\n",
    "\n",
    "    return nodes, edges, weights"
   ]
  },
  {
   "cell_type": "code",
   "execution_count": 3,
   "id": "8a2dde9f",
   "metadata": {
    "scrolled": false
   },
   "outputs": [],
   "source": [
    "df = pd.read_csv('test-cases/Nodes(3)_Edges(2)/graph_3_2_(0).csv', sep=',')"
   ]
  },
  {
   "cell_type": "code",
   "execution_count": 4,
   "id": "c6b220b0",
   "metadata": {},
   "outputs": [
    {
     "data": {
      "text/html": [
       "<div>\n",
       "<style scoped>\n",
       "    .dataframe tbody tr th:only-of-type {\n",
       "        vertical-align: middle;\n",
       "    }\n",
       "\n",
       "    .dataframe tbody tr th {\n",
       "        vertical-align: top;\n",
       "    }\n",
       "\n",
       "    .dataframe thead th {\n",
       "        text-align: right;\n",
       "    }\n",
       "</style>\n",
       "<table border=\"1\" class=\"dataframe\">\n",
       "  <thead>\n",
       "    <tr style=\"text-align: right;\">\n",
       "      <th></th>\n",
       "      <th>Source</th>\n",
       "      <th>Sink</th>\n",
       "      <th>Weight</th>\n",
       "    </tr>\n",
       "  </thead>\n",
       "  <tbody>\n",
       "    <tr>\n",
       "      <th>0</th>\n",
       "      <td>0</td>\n",
       "      <td>1</td>\n",
       "      <td>1.00</td>\n",
       "    </tr>\n",
       "    <tr>\n",
       "      <th>1</th>\n",
       "      <td>1</td>\n",
       "      <td>2</td>\n",
       "      <td>18.26</td>\n",
       "    </tr>\n",
       "  </tbody>\n",
       "</table>\n",
       "</div>"
      ],
      "text/plain": [
       "   Source  Sink  Weight\n",
       "0       0     1    1.00\n",
       "1       1     2   18.26"
      ]
     },
     "execution_count": 4,
     "metadata": {},
     "output_type": "execute_result"
    }
   ],
   "source": [
    "df"
   ]
  },
  {
   "cell_type": "code",
   "execution_count": 5,
   "id": "5d4d1c71",
   "metadata": {},
   "outputs": [
    {
     "name": "stdout",
     "output_type": "stream",
     "text": [
      "\n",
      "Problem: \n",
      "- Name: unknown\n",
      "  Lower bound: None\n",
      "  Upper bound: inf\n",
      "  Number of objectives: 1\n",
      "  Number of constraints: 1\n",
      "  Number of variables: 2\n",
      "  Number of binary variables: 6\n",
      "  Number of integer variables: 6\n",
      "  Number of nonzeros: 2\n",
      "  Sense: minimize\n",
      "Solver: \n",
      "- Status: ok\n",
      "  User time: -1.0\n",
      "  System time: 0.0\n",
      "  Wallclock time: 0.0\n",
      "  Termination condition: optimal\n",
      "  Termination message: Model was solved to optimality (subject to tolerances), and an optimal solution is available.\n",
      "  Statistics: \n",
      "    Branch and bound: \n",
      "      Number of bounded subproblems: None\n",
      "      Number of created subproblems: None\n",
      "  Error rc: 0\n",
      "  Time: 0.043953657150268555\n",
      "Solution: \n",
      "- number of solutions: 0\n",
      "  number of solutions displayed: 0\n",
      "\n",
      "\n",
      "\n",
      "### OBJECTIVE: 10.13\n",
      "\n",
      "### DEACTIVATED EDGES\n",
      "Edge(0.0, 1.0) 0.0\n",
      "\n",
      "Total deactivated edges: 1\n"
     ]
    }
   ],
   "source": [
    "active_edges = model.optimize(df.to_numpy())"
   ]
  },
  {
   "cell_type": "code",
   "execution_count": 6,
   "id": "10854728",
   "metadata": {
    "scrolled": true
   },
   "outputs": [
    {
     "data": {
      "text/plain": [
       "[(1.0, 2.0, 18.26)]"
      ]
     },
     "execution_count": 6,
     "metadata": {},
     "output_type": "execute_result"
    }
   ],
   "source": [
    "active_edges"
   ]
  }
 ],
 "metadata": {
  "kernelspec": {
   "display_name": "Python 3 (ipykernel)",
   "language": "python",
   "name": "python3"
  },
  "language_info": {
   "codemirror_mode": {
    "name": "ipython",
    "version": 3
   },
   "file_extension": ".py",
   "mimetype": "text/x-python",
   "name": "python",
   "nbconvert_exporter": "python",
   "pygments_lexer": "ipython3",
   "version": "3.10.9"
  }
 },
 "nbformat": 4,
 "nbformat_minor": 5
}
